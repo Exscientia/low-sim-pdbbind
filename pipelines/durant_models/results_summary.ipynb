{
 "cells": [
  {
   "cell_type": "code",
   "execution_count": null,
   "id": "428ec12d-8191-43f5-b936-ee5f10ebfa88",
   "metadata": {},
   "outputs": [],
   "source": [
    "import molflux.datasets\n",
    "import pandas as pd\n",
    "import tempfile\n",
    "from dvc.api import DVCFileSystem"
   ]
  },
  {
   "cell_type": "code",
   "execution_count": null,
   "id": "a180b585-c580-4fcb-bc37-0a4bb937d230",
   "metadata": {},
   "outputs": [],
   "source": [
    "df = pd.read_csv(\"summary.csv\")\n",
    "df = df[~df[\"Experiment\"].isna()].reset_index()\n",
    "\n",
    "dataset = molflux.datasets..load_dataset_from_store(\"../pdb_processing/data/dataset_processed.parquet\")\n",
    "pdb_code_to_uniprot = {}\n",
    "for p in dataset:\n",
    "    pdb_code_to_uniprot[p[\"pdb_code\"]] = p[\"uniprot_id\"]"
   ]
  },
  {
   "cell_type": "code",
   "execution_count": null,
   "id": "9b66688c-2f4f-4d7a-8b1e-c4f751bb48d2",
   "metadata": {},
   "outputs": [],
   "source": [
    "import molflux.metrics\n",
    "from tqdm.auto import tqdm\n",
    "tqdm.pandas()\n",
    "\n",
    "met_suite = molflux.metrics.load_suite(\"regression\")\n",
    "\n",
    "def add_metrics(row):\n",
    "    fs = DVCFileSystem(\n",
    "        \"git@github.com:Exscientia/low-sim-pdbbind.git\",\n",
    "        rev=row[\"rev\"],\n",
    "        subrepos=True\n",
    "    )\n",
    "    with tempfile.NamedTemporaryFile(suffix=\".csv\") as tmpfile:\n",
    "        fs.download(\n",
    "            \"pipelines/durant_models/data/results/trained_model_test.csv\",\n",
    "            tmpfile.name,\n",
    "        )\n",
    "        df_results = pd.read_csv(str(tmpfile.name))\n",
    "\n",
    "    df_results[\"uniprot_id\"] = df_results[\"key\"].map(pdb_code_to_uniprot)\n",
    "    \n",
    "    overall = met_suite.compute(\n",
    "        references=df_results[\"pk\"].values,\n",
    "        predictions=df_results[\"pred\"].values,\n",
    "    )\n",
    "    \n",
    "    row[\"test::r2\"] = overall[\"r2\"]\n",
    "    row[\"test::pearson\"] = overall[\"pearson::correlation\"]\n",
    "    row[\"test::rmse\"] = overall[\"root_mean_squared_error\"]\n",
    "\n",
    "    for group, df_g in df_results.groupby(\"uniprot_id\"):\n",
    "        group_mets = met_suite.compute(\n",
    "            references=df_g[\"pk\"].values,\n",
    "            predictions=df_g[\"pred\"].values,\n",
    "        )\n",
    "        \n",
    "        row[f\"{group}::r2\"] = group_mets[\"r2\"]\n",
    "        row[f\"{group}::pearson\"] = group_mets[\"pearson::correlation\"]\n",
    "        row[f\"{group}::rmse\"] = group_mets[\"root_mean_squared_error\"]\n",
    "    return row"
   ]
  },
  {
   "cell_type": "code",
   "execution_count": null,
   "id": "d9292f9d-9c37-4fed-a78e-fdda53c63e04",
   "metadata": {},
   "outputs": [],
   "source": [
    "cols_before = set(df.columns)\n",
    "df = df.progress_apply(add_metrics, axis=1)\n",
    "new_cols = set(df.columns) - cols_before"
   ]
  },
  {
   "cell_type": "code",
   "execution_count": null,
   "id": "2d59a66e-2a64-455a-8d11-18be73e1f5c1",
   "metadata": {},
   "outputs": [],
   "source": [
    "col_map = {\n",
    "    \"rev\": \"rev\",\n",
    "    \"model_repo\": \"model_tag\",\n",
    "    \"higher_split.presets.column\": \"higher_split\",\n",
    "}\n",
    "\n",
    "df_agg = df[\n",
    "    list(col_map.keys()) + \n",
    "    list(new_cols)\n",
    "].rename(columns=col_map)\n",
    "\n",
    "df_agg[\"fold\"] = df_agg[\"higher_split\"].str.slice(-6)\n",
    "df_agg[\"higher_split\"] = df_agg[\"higher_split\"].str.slice(0, -7)\n",
    "df_agg[\"higher_split\"] = df_agg[\"higher_split\"].map({k: f\"{'_'.join(k.split('_')[:2])}_{int(k.split('_')[2]):02}\" for k in set(df_agg[\"higher_split\"])})\n",
    "\n",
    "df_agg = df_agg.groupby([\"model_tag\", \"higher_split\"]).agg({\n",
    "    **{k: [\"mean\", \"std\"] for k in list(new_cols)},\n",
    "    **{\"rev\": \"first\"}\n",
    "}).reset_index()\n",
    "df_agg.columns = ['::'.join(col).strip() if col[1] else col[0] for col in df_agg.columns.values]"
   ]
  },
  {
   "cell_type": "code",
   "execution_count": null,
   "id": "d29771a9-b977-48b8-b8af-851fd4244ccc",
   "metadata": {},
   "outputs": [],
   "source": [
    "df_agg.to_csv(\"aggregated_summary.csv\")"
   ]
  },
  {
   "cell_type": "code",
   "execution_count": null,
   "id": "c070d364-899c-441d-b5d0-d149119aba01",
   "metadata": {},
   "outputs": [],
   "source": []
  },
  {
   "cell_type": "code",
   "execution_count": null,
   "id": "c157f9e7-0454-4671-910e-3b51df5477b7",
   "metadata": {},
   "outputs": [],
   "source": [
    "df_agg = pd.read_csv(\"aggregated_summary.csv\")"
   ]
  },
  {
   "cell_type": "code",
   "execution_count": null,
   "id": "13727018-056d-42ed-bfff-bbdea5601407",
   "metadata": {},
   "outputs": [],
   "source": [
    "df_agg[\"model_type\"] = df_agg[\"model_tag\"]\n",
    "df_agg.to_csv(\"../../notebooks/pdbbind_results/data/overall_global_durant_results.csv\")"
   ]
  },
  {
   "cell_type": "code",
   "execution_count": null,
   "id": "fdcf0b17-023e-4731-9fb4-f6980bf48ff3",
   "metadata": {},
   "outputs": [],
   "source": [
    "uniprot_ids = [\n",
    "    'O60885',\n",
    "    'P00734',\n",
    "    'P00760',\n",
    "    'P00918',\n",
    "    'P07900',\n",
    "    'P24941',\n",
    "    'P56817',\n",
    "    'Q9H2K2',\n",
    "]"
   ]
  },
  {
   "cell_type": "code",
   "execution_count": null,
   "id": "48ee6bdc-ef3d-4ce6-83ec-decc6e945e01",
   "metadata": {},
   "outputs": [],
   "source": [
    "list_dfs = []\n",
    "for uniprot in uniprot_ids:\n",
    "    met_df = df_agg[[\n",
    "            \"higher_split\", \n",
    "            f\"{uniprot}::pearson::mean\",\n",
    "            f\"{uniprot}::r2::mean\",\n",
    "            f\"{uniprot}::rmse::mean\",\n",
    "            f\"{uniprot}::pearson::std\",\n",
    "            f\"{uniprot}::r2::std\",\n",
    "            f\"{uniprot}::rmse::std\",\n",
    "            \"model_tag\",\n",
    "        ]].rename(columns={\n",
    "            f\"{uniprot}::pearson::mean\": \"test::pearson::mean\",\n",
    "            f\"{uniprot}::r2::mean\": \"test::r2::mean\",\n",
    "            f\"{uniprot}::rmse::mean\": \"test::rmse::mean\",\n",
    "            f\"{uniprot}::pearson::std\": \"test::pearson::std\",\n",
    "            f\"{uniprot}::r2::std\": \"test::r2::std\",\n",
    "            f\"{uniprot}::rmse::std\": \"test::rmse::std\",\n",
    "        })\n",
    "    met_df[\"uniprot_id\"] = uniprot\n",
    "    list_dfs.append(met_df)\n",
    "df_strat_best = pd.concat(list_dfs)\n",
    "df_strat_best[\"model_type\"] = df_strat_best[\"model_tag\"]\n",
    "df_strat_best.to_csv(\"../../notebooks/pdbbind_results/data/strat_global_durant_results.csv\")"
   ]
  },
  {
   "cell_type": "code",
   "execution_count": null,
   "id": "9b9a2b12-0645-42d1-b5f1-0ba99298f817",
   "metadata": {},
   "outputs": [],
   "source": []
  }
 ],
 "metadata": {
  "kernelspec": {
   "display_name": "Python 3 (ipykernel)",
   "language": "python",
   "name": "python3"
  },
  "language_info": {
   "codemirror_mode": {
    "name": "ipython",
    "version": 3
   },
   "file_extension": ".py",
   "mimetype": "text/x-python",
   "name": "python",
   "nbconvert_exporter": "python",
   "pygments_lexer": "ipython3",
   "version": "3.11.9"
  }
 },
 "nbformat": 4,
 "nbformat_minor": 5
}
