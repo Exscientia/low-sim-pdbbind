{
 "cells": [
  {
   "cell_type": "code",
   "execution_count": null,
   "id": "f7c529cd-7d09-4d16-84f9-2a7a1cca968d",
   "metadata": {},
   "outputs": [],
   "source": [
    "import pandas as pd\n",
    "pd.set_option('display.max_columns', None)\n",
    "\n",
    "from warnings import filterwarnings\n",
    "filterwarnings('ignore')"
   ]
  },
  {
   "cell_type": "code",
   "execution_count": null,
   "id": "827ead52-1e26-4860-8d29-9bd275617da2",
   "metadata": {},
   "outputs": [],
   "source": [
    "df = pd.read_csv(\"summary.csv\")\n",
    "df = df[~df[\"Experiment\"].isna()].reset_index()"
   ]
  },
  {
   "cell_type": "code",
   "execution_count": null,
   "id": "fbb1d9ed-8ddc-4fa1-84ff-e40178604b14",
   "metadata": {},
   "outputs": [],
   "source": [
    "num_higher_reps = 3\n",
    "num_lower_reps = 1\n",
    "\n",
    "y_feature = \"log_affinity_data\"\n",
    "metric_names = {\n",
    "    \"r2\": \"r2\",\n",
    "    \"root_mean_squared_error\": \"rmse\",\n",
    "    \"pearson::correlation\": \"pearson\",\n",
    "}\n",
    "\n",
    "split_names = {\n",
    "    \"validation\": [f\"fold_{higher_idx:02}_{lower_idx:02}\" for higher_idx in range(num_higher_reps) for lower_idx in range(num_lower_reps)],\n",
    "    \"test\": [f\"fold_{higher_idx:02}\" for higher_idx in range(num_higher_reps)],\n",
    "}\n",
    "metric_agg = {}\n",
    "metric_cols = []\n",
    "\n",
    "for split_name, split_fold_names in split_names.items():\n",
    "    for metric in metric_names:\n",
    "        set_met_list = []\n",
    "        for fold_name in split_fold_names:\n",
    "            col = f\"{fold_name}.{split_name}.{y_feature}.{metric}\"\n",
    "            metric_cols.append(col)\n",
    "            set_met_list.append(col)\n",
    "        metric_agg[f\"{split_name}::{metric_names[metric]}\"] = set_met_list\n",
    "metric_names[\"pearson\"] = metric_names[\"pearson::correlation\"]"
   ]
  },
  {
   "cell_type": "code",
   "execution_count": null,
   "id": "ee4d6a20-3925-4327-93aa-625ebe296833",
   "metadata": {},
   "outputs": [],
   "source": [
    "for k, v in metric_agg.items():\n",
    "    df[f\"{k}::mean\"] = df[v].mean(1)\n",
    "    df[f\"{k}::std\"] = df[v].std(1)"
   ]
  },
  {
   "cell_type": "code",
   "execution_count": null,
   "id": "2eda19fb-d35a-4466-8b6e-e242f4ad7ccf",
   "metadata": {
    "jupyter": {
     "source_hidden": true
    }
   },
   "outputs": [],
   "source": [
    "from tqdm.auto import tqdm\n",
    "import numpy as np\n",
    "tqdm.pandas()\n",
    "import molflux.datasets\n",
    "import molflux.metrics\n",
    "\n",
    "met_suite = molflux.metrics.load_suite(\"regression\")\n",
    "\n",
    "def add_stratified_metrics(row, strat_name=\"uniprot_id\"):\n",
    "\n",
    "    all_metrics_dict = {}\n",
    "    \n",
    "    for col in split_names[\"test\"]:\n",
    "        metrics_dict = {}\n",
    "        \n",
    "        refs = eval(row[f\"{col}.test.{y_feature}.references\"])\n",
    "        preds = eval(row[f\"{col}.test.{y_feature}.predictions\"])\n",
    "        strats = eval(row[f\"{col}.test.{y_feature}.{strat_name}\"])\n",
    "\n",
    "        df_tmp = pd.DataFrame({\"strats\": strats, \"refs\": refs, \"preds\": preds})\n",
    "        \n",
    "        for group, df_group in df_tmp.groupby(\"strats\"):\n",
    "            mets = met_suite.compute(\n",
    "                references=df_group[\"refs\"].tolist(),\n",
    "                predictions=df_group[\"preds\"].tolist(),\n",
    "            )\n",
    "            metrics_dict[group] = {}\n",
    "            metrics_dict[group][\"r2\"] = mets[\"r2\"]\n",
    "            metrics_dict[group][\"rmse\"] = mets[\"root_mean_squared_error\"]\n",
    "            metrics_dict[group][\"pearson\"] = mets[\"pearson::correlation\"]\n",
    "\n",
    "        all_metrics_dict[col] = metrics_dict\n",
    "\n",
    "    for group in all_metrics_dict[col].keys():\n",
    "        for met in all_metrics_dict[col][group].keys():\n",
    "            met_array = np.array([all_metrics_dict[fold][group][met] for fold in all_metrics_dict.keys()])\n",
    "            row[f\"{group}::{met}::mean\"] = met_array.mean()\n",
    "            row[f\"{group}::{met}::std\"] = met_array.std()\n",
    "    \n",
    "    return row"
   ]
  },
  {
   "cell_type": "code",
   "execution_count": null,
   "id": "06632a41-4ac8-4d37-bf3e-6b66acaca780",
   "metadata": {},
   "outputs": [],
   "source": [
    "cols_before = set(df.columns)\n",
    "df = df.progress_apply(add_stratified_metrics, axis=1)\n",
    "strat_cols = set(df.columns) - cols_before"
   ]
  },
  {
   "cell_type": "code",
   "execution_count": null,
   "id": "eb166a7c-f583-4f77-8a99-a85a5b816f5d",
   "metadata": {},
   "outputs": [],
   "source": [
    "col_map = {\n",
    "    \"rev\": \"rev\",\n",
    "    \"dataset.dvc_config.rev\": \"dataset\",\n",
    "    \"higher_split.presets.columns\": \"higher_split\",\n",
    "    \"featurisation.which_hydrogens\": \"which_hydrogens\",\n",
    "    \"featurisation.featurisation_name\": \"featurisation_name\",\n",
    "    'train.model_config.config.tag': \"model_tag\",\n",
    "    \"train.model_config.config.pooling_head\": \"multi_graph\",\n",
    "    # 'train.model_config.config.jitter': \"jitter\",\n",
    "    # 'train.model_config.config.y_graph_scalars_loss_config.name': \"loss_func\",\n",
    "}\n",
    "\n",
    "df_agg = df[\n",
    "    list(col_map.keys()) + \n",
    "    [f\"{metric}::mean\" for metric in metric_agg.keys()] + \n",
    "    [f\"{metric}::std\" for metric in metric_agg.keys()] +\n",
    "    list(strat_cols)\n",
    "].rename(columns=col_map)\n",
    "\n",
    "df_agg[\"pre_trained\"] = ~df_agg[\"model_tag\"].str.contains(\"plain\")\n",
    "\n",
    "df_agg[\"model_tag\"] = df_agg[\"model_tag\"].str.replace(\"multi_graph_\", \"\")\n",
    "df_agg[\"model_tag\"] = df_agg[\"model_tag\"].map(\n",
    "    {\n",
    "        \"qm_egnn_model_two_stage\": \"EGNN_QM\",\n",
    "        \"diffusion_egnn_model_two_stage\": \"EGNN_DIFF\",\n",
    "        \"plain_egnn_model\": \"EGNN\",\n",
    "        # \"qm_egnn_model_two_stage_contact_map\": \"EGNN_QM_CM\",\n",
    "        # \"diffusion_egnn_model_two_stage_contact_map\": \"EGNN_DIFF_CM\",\n",
    "        # \"plain_egnn_model_contact_map\": \"EGNN_CM\",\n",
    "    }\n",
    ")\n",
    "\n",
    "df_agg[\"multi_graph\"] = df_agg[\"multi_graph\"].map({\"InvariantLigandPocketPoolingHead\": \"multi\"})\n",
    "df_agg[\"multi_graph\"] = df_agg[\"multi_graph\"].fillna(\"single\")\n",
    "\n",
    "df_agg[\"higher_split\"] = [\"_\".join(eval(x)[0].split(\"_\")[:3]) for x in df_agg[\"higher_split\"]]\n",
    "df_agg[\"higher_split\"] = df_agg[\"higher_split\"].map({k: f\"{'_'.join(k.split('_')[:2])}_{int(k.split('_')[2]):02}\" for k in set(df_agg[\"higher_split\"])})\n",
    "# df_agg[\"jitter\"] = df_agg[\"jitter\"].fillna(0.0)"
   ]
  },
  {
   "cell_type": "code",
   "execution_count": null,
   "id": "97e3be0d-9a92-48a6-b6b5-62bdc6ff0919",
   "metadata": {},
   "outputs": [],
   "source": [
    "df_agg"
   ]
  },
  {
   "cell_type": "code",
   "execution_count": null,
   "id": "b4a19b84-5885-463b-a315-c6229608d1cb",
   "metadata": {},
   "outputs": [],
   "source": [
    "df_agg.to_csv(\"aggregated_summary.csv\")"
   ]
  },
  {
   "cell_type": "code",
   "execution_count": null,
   "id": "33fa9d9e-8854-41a7-ba3c-5bc72ad924fd",
   "metadata": {},
   "outputs": [],
   "source": []
  },
  {
   "cell_type": "code",
   "execution_count": null,
   "id": "43a5cdd1-51f1-4391-9ead-20423ba0de89",
   "metadata": {},
   "outputs": [],
   "source": [
    "df_agg = pd.read_csv(\"aggregated_summary.csv\")"
   ]
  },
  {
   "cell_type": "code",
   "execution_count": null,
   "id": "a96966a2-8175-4033-aa17-986e341c6b49",
   "metadata": {},
   "outputs": [],
   "source": [
    "df_best = df_agg.loc[df_agg.groupby([\"model_tag\", \"multi_graph\", \"higher_split\"])[\"validation::r2::mean\"].idxmax()]\n",
    "df_best[\"model_type\"] = df_best[\"model_tag\"] + \"_\" + df_best[\"multi_graph\"]\n",
    "df_best.to_csv(\"../../notebooks/pdbbind_results/data/overall_ligand_pocket_3d_results.csv\")"
   ]
  },
  {
   "cell_type": "code",
   "execution_count": null,
   "id": "cd4c185e-76ec-49bf-bc04-1877070c228d",
   "metadata": {},
   "outputs": [],
   "source": [
    "uniprot_ids = [\n",
    "    'O60885',\n",
    "    'P00734',\n",
    "    'P00760',\n",
    "    'P00918',\n",
    "    'P07900',\n",
    "    'P24941',\n",
    "    'P56817',\n",
    "    'Q9H2K2',\n",
    "]"
   ]
  },
  {
   "cell_type": "code",
   "execution_count": null,
   "id": "112ddf9b-9ce2-4396-93e5-92b568b90d36",
   "metadata": {},
   "outputs": [],
   "source": [
    "list_dfs = []\n",
    "for uniprot in uniprot_ids:\n",
    "    met_df = df_best[[\n",
    "            \"higher_split\", \n",
    "            f\"{uniprot}::pearson::mean\",\n",
    "            f\"{uniprot}::r2::mean\",\n",
    "            f\"{uniprot}::rmse::mean\",\n",
    "            f\"{uniprot}::pearson::std\",\n",
    "            f\"{uniprot}::r2::std\",\n",
    "            f\"{uniprot}::rmse::std\",\n",
    "            \"featurisation_name\", \n",
    "            \"model_tag\",\n",
    "            \"which_hydrogens\",\n",
    "            \"multi_graph\",\n",
    "        ]].rename(columns={\n",
    "            f\"{uniprot}::pearson::mean\": \"test::pearson::mean\",\n",
    "            f\"{uniprot}::r2::mean\": \"test::r2::mean\",\n",
    "            f\"{uniprot}::rmse::mean\": \"test::rmse::mean\",\n",
    "            f\"{uniprot}::pearson::std\": \"test::pearson::std\",\n",
    "            f\"{uniprot}::r2::std\": \"test::r2::std\",\n",
    "            f\"{uniprot}::rmse::std\": \"test::rmse::std\",\n",
    "        })\n",
    "    met_df[\"uniprot_id\"] = uniprot\n",
    "    list_dfs.append(met_df)\n",
    "df_strat_best = pd.concat(list_dfs)\n",
    "df_strat_best[\"model_type\"] = df_strat_best[\"model_tag\"] + \"_\" + df_strat_best[\"multi_graph\"]\n",
    "df_strat_best.to_csv(\"../../notebooks/pdbbind_results/data/strat_ligand_pocket_3d_results.csv\")"
   ]
  },
  {
   "cell_type": "code",
   "execution_count": null,
   "id": "b749f1bf-8c19-4c2f-ac27-182d3560b932",
   "metadata": {},
   "outputs": [],
   "source": []
  },
  {
   "cell_type": "code",
   "execution_count": null,
   "id": "5d83a579-75ff-4da6-87e9-5f0d86402d61",
   "metadata": {},
   "outputs": [],
   "source": []
  }
 ],
 "metadata": {
  "kernelspec": {
   "display_name": "Python 3 (ipykernel)",
   "language": "python",
   "name": "python3"
  },
  "language_info": {
   "codemirror_mode": {
    "name": "ipython",
    "version": 3
   },
   "file_extension": ".py",
   "mimetype": "text/x-python",
   "name": "python",
   "nbconvert_exporter": "python",
   "pygments_lexer": "ipython3",
   "version": "3.11.9"
  }
 },
 "nbformat": 4,
 "nbformat_minor": 5
}
