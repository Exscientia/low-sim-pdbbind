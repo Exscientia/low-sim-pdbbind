{
 "cells": [
  {
   "cell_type": "code",
   "execution_count": null,
   "id": "f7c529cd-7d09-4d16-84f9-2a7a1cca968d",
   "metadata": {},
   "outputs": [],
   "source": [
    "import pandas as pd\n",
    "pd.set_option('display.max_columns', None)\n",
    "\n",
    "from warnings import filterwarnings\n",
    "filterwarnings('ignore')"
   ]
  },
  {
   "cell_type": "code",
   "execution_count": null,
   "id": "827ead52-1e26-4860-8d29-9bd275617da2",
   "metadata": {},
   "outputs": [],
   "source": [
    "df = pd.read_csv(\"local_summary.csv\")\n",
    "df = df[~df[\"Experiment\"].isna()].reset_index()"
   ]
  },
  {
   "cell_type": "code",
   "execution_count": null,
   "id": "fbb1d9ed-8ddc-4fa1-84ff-e40178604b14",
   "metadata": {},
   "outputs": [],
   "source": [
    "num_higher_reps = 3\n",
    "num_lower_reps = 1\n",
    "\n",
    "y_feature = \"log_affinity_data\"\n",
    "metric_names = {\n",
    "    \"r2\": \"r2\",\n",
    "    \"root_mean_squared_error\": \"rmse\",\n",
    "    \"pearson::correlation\": \"pearson\",\n",
    "}\n",
    "\n",
    "split_names = {\n",
    "    \"validation\": [f\"fold_{higher_idx:02}_{lower_idx:02}\" for higher_idx in range(num_higher_reps) for lower_idx in range(num_lower_reps)],\n",
    "    \"test\": [f\"fold_{higher_idx:02}\" for higher_idx in range(num_higher_reps)],\n",
    "}\n",
    "metric_agg = {}\n",
    "metric_cols = []\n",
    "\n",
    "for split_name, split_fold_names in split_names.items():\n",
    "    for metric in metric_names:\n",
    "        set_met_list = []\n",
    "        for fold_name in split_fold_names:\n",
    "            col = f\"{fold_name}.{split_name}.{y_feature}.{metric}\"\n",
    "            metric_cols.append(col)\n",
    "            set_met_list.append(col)\n",
    "        metric_agg[f\"{split_name}::{metric_names[metric]}\"] = set_met_list\n",
    "metric_names[\"pearson\"] = metric_names[\"pearson::correlation\"]"
   ]
  },
  {
   "cell_type": "code",
   "execution_count": null,
   "id": "ee4d6a20-3925-4327-93aa-625ebe296833",
   "metadata": {},
   "outputs": [],
   "source": [
    "for k, v in metric_agg.items():\n",
    "    df[f\"{k}::mean\"] = df[v].mean(1)\n",
    "    df[f\"{k}::std\"] = df[v].std(1)"
   ]
  },
  {
   "cell_type": "code",
   "execution_count": null,
   "id": "349bc3a5-1020-4eb7-af15-9865ebe906ac",
   "metadata": {},
   "outputs": [],
   "source": [
    "import numpy as np\n",
    "\n",
    "df[\"filtering\"] = [eval(x)[0][\"value\"] for x in df[\"filtering\"]]\n",
    "df[\"num_train_points\"] = df[\n",
    "    [f\"{col}.train.{y_feature}.predictions\" for col in split_names[\"test\"]]\n",
    "].apply(lambda x: np.array([len(eval(xx)) for xx in x]).mean(), axis=1)\n",
    "\n",
    "df[\"num_test_points\"] = df[\n",
    "    [f\"{col}.test.{y_feature}.predictions\" for col in split_names[\"test\"]]\n",
    "].apply(lambda x: np.array([len(eval(xx)) for xx in x]).mean(), axis=1)"
   ]
  },
  {
   "cell_type": "code",
   "execution_count": null,
   "id": "ea6a8cdf-9c6a-4799-bd70-c3610ac65bec",
   "metadata": {},
   "outputs": [],
   "source": [
    "pred_cols = [f\"{col}.test.{y_feature}.predictions\" for col in split_names[\"test\"]]\n",
    "ref_cols = [f\"{col}.test.{y_feature}.references\" for col in split_names[\"test\"]]\n",
    "uniprot_cols = [f\"{col}.test.{y_feature}.uniprot_id\" for col in split_names[\"test\"]]"
   ]
  },
  {
   "cell_type": "code",
   "execution_count": null,
   "id": "eb166a7c-f583-4f77-8a99-a85a5b816f5d",
   "metadata": {},
   "outputs": [],
   "source": [
    "col_map = {\n",
    "    \"rev\": \"rev\",\n",
    "    \"dataset.dvc_config.rev\": \"dataset\",\n",
    "    \"filtering\": \"uniprot_id\",\n",
    "    \"higher_split.presets.columns\": \"higher_split\",\n",
    "    \"featurisation.featurisation_name\": \"featurisation_name\",\n",
    "    'train.model_config.name': \"model_tag\",\n",
    "    \"num_train_points\": \"num_train_points\",\n",
    "    \"num_test_points\": \"num_test_points\",\n",
    "}\n",
    "\n",
    "df_agg = df[\n",
    "    list(col_map.keys()) + \n",
    "    [f\"{metric}::mean\" for metric in metric_agg.keys()] + \n",
    "    [f\"{metric}::std\" for metric in metric_agg.keys()] + \n",
    "    pred_cols + ref_cols + uniprot_cols\n",
    "].rename(columns=col_map)\n",
    "\n",
    "df_agg[\"higher_split\"] = [\"_\".join(eval(x)[0].split(\"_\")[:3]) for x in df_agg[\"higher_split\"]]\n",
    "df_agg[\"higher_split\"] = df_agg[\"higher_split\"].map({k: f\"{'_'.join(k.split('_')[:2])}_{int(k.split('_')[2]):02}\" for k in set(df_agg[\"higher_split\"])})"
   ]
  },
  {
   "cell_type": "code",
   "execution_count": null,
   "id": "765ec105-cd62-443b-8288-b3508b1cbe50",
   "metadata": {},
   "outputs": [],
   "source": [
    "df_agg.to_csv(\"local_aggregated_summary.csv\")"
   ]
  },
  {
   "cell_type": "code",
   "execution_count": null,
   "id": "787b6bca-d666-4929-a7d2-9cef0e94aeac",
   "metadata": {},
   "outputs": [],
   "source": []
  },
  {
   "cell_type": "code",
   "execution_count": null,
   "id": "58670946-f82a-494f-82ab-9a6422e05a56",
   "metadata": {},
   "outputs": [],
   "source": [
    "df_agg = pd.read_csv(\"local_aggregated_summary.csv\")"
   ]
  },
  {
   "cell_type": "code",
   "execution_count": null,
   "id": "33b3c0b8-d49c-45fb-af95-fa20bf19e417",
   "metadata": {},
   "outputs": [],
   "source": [
    "df_models = df_agg[df_agg[\"featurisation_name\"] != \"mw\"]\n",
    "\n",
    "df_best = df_models.loc[\n",
    "    df_models.groupby([\"uniprot_id\", \"higher_split\"])[\"validation::r2::mean\"].idxmax().dropna()\n",
    "]\n",
    "df_best[\"model_type\"] = \"ligand_only_2d\"\n",
    "df_best.to_csv(\"../../notebooks/pdbbind_results/data/strat_local_ligand_only_2d_results.csv\")"
   ]
  },
  {
   "cell_type": "code",
   "execution_count": null,
   "id": "693e0ad6-609c-4d41-bfbb-523c8aa99a79",
   "metadata": {},
   "outputs": [],
   "source": [
    "import molflux.metrics\n",
    "import numpy as np\n",
    "met_suite = molflux.metrics.load_suite(\"regression\")\n",
    "overall_metrics = {}\n",
    "for group, df_g in df_best.groupby(\"higher_split\"):\n",
    "    sub_metrics = {\n",
    "        \"r2\": [],\n",
    "        \"rmse\": [],\n",
    "        \"pearson\": [],\n",
    "    }\n",
    "    for col in split_names[\"test\"]:\n",
    "        preds = [eval(x) for x in df_g[f\"{col}.test.{y_feature}.predictions\"]]\n",
    "        refs = [eval(x) for x in df_g[f\"{col}.test.{y_feature}.references\"]]\n",
    "        preds = [xs for x in preds for xs in x]\n",
    "        refs = [xs for x in refs for xs in x]\n",
    "        met_vals = met_suite.compute(predictions=preds, references=refs)\n",
    "        sub_metrics[\"r2\"].append(met_vals[\"r2\"])\n",
    "        sub_metrics[\"rmse\"].append(met_vals[\"root_mean_squared_error\"])\n",
    "        sub_metrics[\"pearson\"].append(met_vals[\"pearson::correlation\"])\n",
    "    \n",
    "    agg_mets = {}\n",
    "    for k, v in sub_metrics.items():\n",
    "        agg_mets[f\"test::{k}::mean\"] = np.array(v).mean()\n",
    "        agg_mets[f\"test::{k}::std\"] = np.array(v).std()\n",
    "    overall_metrics[group] = agg_mets\n",
    "\n",
    "df_overall = pd.DataFrame.from_dict(overall_metrics).T.reset_index().rename(columns={\"index\": \"higher_split\"})\n",
    "df_overall[\"model_type\"] = \"ligand_only_2d\"\n",
    "\n",
    "df_overall.to_csv(\"../../notebooks/pdbbind_results/data/overall_local_ligand_only_2d_results.csv\")"
   ]
  },
  {
   "cell_type": "code",
   "execution_count": null,
   "id": "adf023e6-ffc2-4e00-8b05-f863656fc2ff",
   "metadata": {},
   "outputs": [],
   "source": []
  },
  {
   "cell_type": "code",
   "execution_count": null,
   "id": "7c1855c4-42a0-4b28-871b-21372c5ebdf3",
   "metadata": {},
   "outputs": [],
   "source": [
    "df_baseline = df_agg[df_agg[\"featurisation_name\"] == \"mw\"]\n",
    "\n",
    "df_best_mw = df_baseline.loc[\n",
    "    df_baseline.groupby([\"uniprot_id\", \"higher_split\"])[\"validation::r2::mean\"].idxmax().dropna()\n",
    "]\n",
    "df_best_mw[\"model_type\"] = \"local_mw\"\n",
    "df_best_mw.to_csv(\"../../notebooks/pdbbind_results/data/strat_local_mw_results.csv\")"
   ]
  },
  {
   "cell_type": "code",
   "execution_count": null,
   "id": "38301064-d1fe-4503-981a-9dc86fdf1dfc",
   "metadata": {},
   "outputs": [],
   "source": [
    "import molflux.metrics\n",
    "import numpy as np\n",
    "met_suite = molflux.metrics.load_suite(\"regression\")\n",
    "overall_metrics = {}\n",
    "for group, df_g in df_best_mw.groupby(\"higher_split\"):\n",
    "    sub_metrics = {\n",
    "        \"r2\": [],\n",
    "        \"rmse\": [],\n",
    "        \"pearson\": [],\n",
    "    }\n",
    "    for col in split_names[\"test\"]:\n",
    "        preds = [eval(x) for x in df_g[f\"{col}.test.{y_feature}.predictions\"]]\n",
    "        refs = [eval(x) for x in df_g[f\"{col}.test.{y_feature}.references\"]]\n",
    "        preds = [xs for x in preds for xs in x]\n",
    "        refs = [xs for x in refs for xs in x]\n",
    "        met_vals = met_suite.compute(predictions=preds, references=refs)\n",
    "        sub_metrics[\"r2\"].append(met_vals[\"r2\"])\n",
    "        sub_metrics[\"rmse\"].append(met_vals[\"root_mean_squared_error\"])\n",
    "        sub_metrics[\"pearson\"].append(met_vals[\"pearson::correlation\"])\n",
    "    \n",
    "    agg_mets = {}\n",
    "    for k, v in sub_metrics.items():\n",
    "        agg_mets[f\"test::{k}::mean\"] = np.array(v).mean()\n",
    "        agg_mets[f\"test::{k}::std\"] = np.array(v).std()\n",
    "    overall_metrics[group] = agg_mets\n",
    "\n",
    "df_overall = pd.DataFrame.from_dict(overall_metrics).T.reset_index().rename(columns={\"index\": \"higher_split\"})\n",
    "df_overall[\"model_type\"] = \"local_mw\"\n",
    "\n",
    "df_overall.to_csv(\"../../notebooks/pdbbind_results/data/overall_local_mw_results.csv\")"
   ]
  },
  {
   "cell_type": "code",
   "execution_count": null,
   "id": "e027c7aa-2502-4828-aa31-365b5294280c",
   "metadata": {},
   "outputs": [],
   "source": []
  }
 ],
 "metadata": {
  "kernelspec": {
   "display_name": "Python 3 (ipykernel)",
   "language": "python",
   "name": "python3"
  },
  "language_info": {
   "codemirror_mode": {
    "name": "ipython",
    "version": 3
   },
   "file_extension": ".py",
   "mimetype": "text/x-python",
   "name": "python",
   "nbconvert_exporter": "python",
   "pygments_lexer": "ipython3",
   "version": "3.11.9"
  }
 },
 "nbformat": 4,
 "nbformat_minor": 5
}
